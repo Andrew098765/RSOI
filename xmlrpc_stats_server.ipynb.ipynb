{
 "cells": [
  {
   "cell_type": "markdown",
   "metadata": {},
   "source": [
    "#### Файл сервера xmlrpc_stats_server_p3.ipynb на Python 3 "
   ]
  },
  {
   "cell_type": "code",
   "execution_count": 1,
   "metadata": {},
   "outputs": [
    {
     "name": "stdout",
     "output_type": "stream",
     "text": [
      "    type                 date\n",
      "2   type  2023-12-19 17:47:59\n",
      "3   type  2023-12-19 17:48:03\n",
      "4   type  2023-12-19 17:48:07\n",
      "5   type  2023-12-19 17:48:11\n",
      "6   type  2023-12-19 17:48:15\n",
      "7   type  2023-12-19 17:48:19\n",
      "8   type  2023-12-19 17:48:23\n",
      "20  type  2023-12-19 17:56:46\n",
      "21  type  2023-12-19 17:56:50\n",
      "22  type  2023-12-19 17:56:54\n",
      "23  type  2023-12-19 17:56:58\n",
      "24  type  2023-12-19 17:57:02\n",
      "25  type  2023-12-19 17:57:06\n",
      "26  type  2023-12-19 17:57:10\n",
      "30  type  2023-12-19 17:58:32\n",
      "31  type  2023-12-19 17:58:36\n",
      "32  type  2023-12-19 17:58:40\n",
      "33  type  2023-12-19 17:58:44\n",
      "34  type  2023-12-19 17:58:48\n",
      "35  type  2023-12-19 17:58:52\n",
      "36  type  2023-12-19 17:58:56\n",
      "Listening on port 8018...\n"
     ]
    },
    {
     "name": "stderr",
     "output_type": "stream",
     "text": [
      "127.0.0.1 - - [19/Dec/2023 20:43:08] \"POST /RPC2 HTTP/1.1\" 200 -\n",
      "127.0.0.1 - - [19/Dec/2023 20:44:18] \"POST /RPC2 HTTP/1.1\" 200 -\n",
      "127.0.0.1 - - [19/Dec/2023 20:44:26] \"POST /RPC2 HTTP/1.1\" 200 -\n",
      "127.0.0.1 - - [19/Dec/2023 20:44:31] \"POST /RPC2 HTTP/1.1\" 200 -\n",
      "127.0.0.1 - - [19/Dec/2023 20:44:42] \"POST /RPC2 HTTP/1.1\" 200 -\n",
      "127.0.0.1 - - [19/Dec/2023 20:44:46] \"POST /RPC2 HTTP/1.1\" 200 -\n",
      "127.0.0.1 - - [19/Dec/2023 20:44:50] \"POST /RPC2 HTTP/1.1\" 200 -\n",
      "127.0.0.1 - - [19/Dec/2023 20:44:54] \"POST /RPC2 HTTP/1.1\" 200 -\n",
      "127.0.0.1 - - [19/Dec/2023 20:44:58] \"POST /RPC2 HTTP/1.1\" 200 -\n",
      "127.0.0.1 - - [19/Dec/2023 20:45:03] \"POST /RPC2 HTTP/1.1\" 200 -\n",
      "127.0.0.1 - - [19/Dec/2023 20:45:21] \"POST /RPC2 HTTP/1.1\" 200 -\n",
      "127.0.0.1 - - [19/Dec/2023 20:46:02] \"POST /RPC2 HTTP/1.1\" 200 -\n",
      "127.0.0.1 - - [19/Dec/2023 20:46:06] \"POST /RPC2 HTTP/1.1\" 200 -\n",
      "127.0.0.1 - - [19/Dec/2023 20:46:11] \"POST /RPC2 HTTP/1.1\" 200 -\n",
      "127.0.0.1 - - [19/Dec/2023 20:46:16] \"POST /RPC2 HTTP/1.1\" 200 -\n",
      "127.0.0.1 - - [19/Dec/2023 20:46:27] \"POST /RPC2 HTTP/1.1\" 200 -\n",
      "127.0.0.1 - - [19/Dec/2023 20:46:31] \"POST /RPC2 HTTP/1.1\" 200 -\n",
      "127.0.0.1 - - [19/Dec/2023 20:46:35] \"POST /RPC2 HTTP/1.1\" 200 -\n"
     ]
    },
    {
     "ename": "KeyboardInterrupt",
     "evalue": "",
     "output_type": "error",
     "traceback": [
      "\u001b[1;31m---------------------------------------------------------------------------\u001b[0m",
      "\u001b[1;31mKeyboardInterrupt\u001b[0m                         Traceback (most recent call last)",
      "Cell \u001b[1;32mIn[1], line 65\u001b[0m\n\u001b[0;32m     63\u001b[0m \u001b[38;5;28mprint\u001b[39m (tet)\n\u001b[0;32m     64\u001b[0m \u001b[38;5;28mprint\u001b[39m (\u001b[38;5;124m\"\u001b[39m\u001b[38;5;124mListening on port 8018...\u001b[39m\u001b[38;5;124m\"\u001b[39m)\n\u001b[1;32m---> 65\u001b[0m server\u001b[38;5;241m.\u001b[39mserve_forever()\n",
      "File \u001b[1;32mD:\\anaconda3\\Lib\\socketserver.py:233\u001b[0m, in \u001b[0;36mBaseServer.serve_forever\u001b[1;34m(self, poll_interval)\u001b[0m\n\u001b[0;32m    230\u001b[0m selector\u001b[38;5;241m.\u001b[39mregister(\u001b[38;5;28mself\u001b[39m, selectors\u001b[38;5;241m.\u001b[39mEVENT_READ)\n\u001b[0;32m    232\u001b[0m \u001b[38;5;28;01mwhile\u001b[39;00m \u001b[38;5;129;01mnot\u001b[39;00m \u001b[38;5;28mself\u001b[39m\u001b[38;5;241m.\u001b[39m__shutdown_request:\n\u001b[1;32m--> 233\u001b[0m     ready \u001b[38;5;241m=\u001b[39m selector\u001b[38;5;241m.\u001b[39mselect(poll_interval)\n\u001b[0;32m    234\u001b[0m     \u001b[38;5;66;03m# bpo-35017: shutdown() called during select(), exit immediately.\u001b[39;00m\n\u001b[0;32m    235\u001b[0m     \u001b[38;5;28;01mif\u001b[39;00m \u001b[38;5;28mself\u001b[39m\u001b[38;5;241m.\u001b[39m__shutdown_request:\n",
      "File \u001b[1;32mD:\\anaconda3\\Lib\\selectors.py:323\u001b[0m, in \u001b[0;36mSelectSelector.select\u001b[1;34m(self, timeout)\u001b[0m\n\u001b[0;32m    321\u001b[0m ready \u001b[38;5;241m=\u001b[39m []\n\u001b[0;32m    322\u001b[0m \u001b[38;5;28;01mtry\u001b[39;00m:\n\u001b[1;32m--> 323\u001b[0m     r, w, _ \u001b[38;5;241m=\u001b[39m \u001b[38;5;28mself\u001b[39m\u001b[38;5;241m.\u001b[39m_select(\u001b[38;5;28mself\u001b[39m\u001b[38;5;241m.\u001b[39m_readers, \u001b[38;5;28mself\u001b[39m\u001b[38;5;241m.\u001b[39m_writers, [], timeout)\n\u001b[0;32m    324\u001b[0m \u001b[38;5;28;01mexcept\u001b[39;00m \u001b[38;5;167;01mInterruptedError\u001b[39;00m:\n\u001b[0;32m    325\u001b[0m     \u001b[38;5;28;01mreturn\u001b[39;00m ready\n",
      "File \u001b[1;32mD:\\anaconda3\\Lib\\selectors.py:314\u001b[0m, in \u001b[0;36mSelectSelector._select\u001b[1;34m(self, r, w, _, timeout)\u001b[0m\n\u001b[0;32m    313\u001b[0m \u001b[38;5;28;01mdef\u001b[39;00m \u001b[38;5;21m_select\u001b[39m(\u001b[38;5;28mself\u001b[39m, r, w, _, timeout\u001b[38;5;241m=\u001b[39m\u001b[38;5;28;01mNone\u001b[39;00m):\n\u001b[1;32m--> 314\u001b[0m     r, w, x \u001b[38;5;241m=\u001b[39m select\u001b[38;5;241m.\u001b[39mselect(r, w, w, timeout)\n\u001b[0;32m    315\u001b[0m     \u001b[38;5;28;01mreturn\u001b[39;00m r, w \u001b[38;5;241m+\u001b[39m x, []\n",
      "\u001b[1;31mKeyboardInterrupt\u001b[0m: "
     ]
    }
   ],
   "source": [
    "\n",
    "from xmlrpc.server import SimpleXMLRPCServer\n",
    "from xmlrpc.server import SimpleXMLRPCRequestHandler\n",
    "\n",
    "\n",
    "import datetime\n",
    "import pandas\n",
    "\n",
    "class RequestHandler(SimpleXMLRPCRequestHandler):\n",
    "    rpc_paths = ('/RPC2',)\n",
    "\n",
    "server = SimpleXMLRPCServer((\"localhost\", 8018), \n",
    "                            requestHandler=RequestHandler)\n",
    "\n",
    "        \n",
    "# Добавление строки в лог\n",
    "def add_log(sname):\n",
    "    max_logs = 1000\n",
    "    count_log = count_lines('log.csv')\n",
    "    if count_log>=max_logs:\n",
    "        f = open('log.csv','r')\n",
    "        archive_file = f\"log_{datetime.datetime.now().strftime('%Y%m%d_%H%M%S')}.csv\"\n",
    "        r = open('log.csv', 'r')\n",
    "        log_data = r.read()\n",
    "        r.close\n",
    "        d = open(archive_file, 'w')\n",
    "        d.write(log_data)\n",
    "        d.close\n",
    "        f.close()\n",
    "        f = open('log.csv','w')\n",
    "        f.close()\n",
    "    f = open('log.csv','a')\n",
    "    f.write(str(sname)+','+ datetime.datetime.now().strftime(\"%Y-%m-%d %H:%M:%S\") +'\\n')\n",
    "    f.close()\n",
    "    return True\n",
    "\n",
    "server.register_function(add_log, 'add_log')\n",
    "\n",
    "#считать кол-во строк\n",
    "def count_lines(filename, chunk_size=1<<13):\n",
    "    with open(filename) as file:\n",
    "        return sum(chunk.count('\\n')\n",
    "                   for chunk in iter(lambda: file.read(chunk_size), ''))\n",
    "    \n",
    "server.register_function(count_lines, 'count_lines')\n",
    "\n",
    "#получить логи в каком-то промежутке времени и типа\n",
    "def get_event_log(types, start_time, end_time):\n",
    "    f = open('log.csv','r')\n",
    "# Чтение CSV-файла\n",
    "    date_column = 'date'\n",
    "    df = pandas.read_csv(f, delimiter=',', names=['type', date_column])\n",
    "    \n",
    "    # Фильтрация\n",
    "    filtered_df = df[(df[date_column] >= start_time) & (df[date_column] <= end_time) & (df['type']  == types)]\n",
    "    \n",
    "    f.close()\n",
    "    # Возврат отфильтрованного DataFrame\n",
    "    return str(filtered_df)\n",
    "\n",
    "server.register_function(get_event_log, 'get_event_log')\n",
    "\n",
    "tet = get_event_log(\"type\", '2023-12-19 00:00:00', '2023-12-19 18:00:00')\n",
    "print (tet)\n",
    "print (\"Listening on port 8018...\")\n",
    "server.serve_forever()\n"
   ]
  },
  {
   "cell_type": "code",
   "execution_count": null,
   "metadata": {},
   "outputs": [],
   "source": []
  }
 ],
 "metadata": {
  "kernelspec": {
   "display_name": "Python 3 (ipykernel)",
   "language": "python",
   "name": "python3"
  },
  "language_info": {
   "codemirror_mode": {
    "name": "ipython",
    "version": 3
   },
   "file_extension": ".py",
   "mimetype": "text/x-python",
   "name": "python",
   "nbconvert_exporter": "python",
   "pygments_lexer": "ipython3",
   "version": "3.11.5"
  }
 },
 "nbformat": 4,
 "nbformat_minor": 2
}
