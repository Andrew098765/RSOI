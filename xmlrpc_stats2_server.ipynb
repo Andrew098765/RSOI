{
 "cells": [
  {
   "cell_type": "code",
   "execution_count": 1,
   "id": "37274af0",
   "metadata": {},
   "outputs": [
    {
     "name": "stdout",
     "output_type": "stream",
     "text": [
      "Listening on port 7000...\n"
     ]
    },
    {
     "name": "stderr",
     "output_type": "stream",
     "text": [
      "127.0.0.1 - - [27/Dec/2023 18:39:14] \"POST /RPC2 HTTP/1.1\" 200 -\n"
     ]
    },
    {
     "ename": "KeyboardInterrupt",
     "evalue": "",
     "output_type": "error",
     "traceback": [
      "\u001b[1;31m---------------------------------------------------------------------------\u001b[0m",
      "\u001b[1;31mKeyboardInterrupt\u001b[0m                         Traceback (most recent call last)",
      "Cell \u001b[1;32mIn[1], line 43\u001b[0m\n\u001b[0;32m     40\u001b[0m \u001b[38;5;28mprint\u001b[39m(\u001b[38;5;124m\"\u001b[39m\u001b[38;5;124mListening on port 7000...\u001b[39m\u001b[38;5;124m\"\u001b[39m)\n\u001b[0;32m     42\u001b[0m \u001b[38;5;66;03m# Запускаем сервер статистики\u001b[39;00m\n\u001b[1;32m---> 43\u001b[0m stats_server\u001b[38;5;241m.\u001b[39mserve_forever()\n",
      "File \u001b[1;32mD:\\anaconda3\\Lib\\socketserver.py:233\u001b[0m, in \u001b[0;36mBaseServer.serve_forever\u001b[1;34m(self, poll_interval)\u001b[0m\n\u001b[0;32m    230\u001b[0m selector\u001b[38;5;241m.\u001b[39mregister(\u001b[38;5;28mself\u001b[39m, selectors\u001b[38;5;241m.\u001b[39mEVENT_READ)\n\u001b[0;32m    232\u001b[0m \u001b[38;5;28;01mwhile\u001b[39;00m \u001b[38;5;129;01mnot\u001b[39;00m \u001b[38;5;28mself\u001b[39m\u001b[38;5;241m.\u001b[39m__shutdown_request:\n\u001b[1;32m--> 233\u001b[0m     ready \u001b[38;5;241m=\u001b[39m selector\u001b[38;5;241m.\u001b[39mselect(poll_interval)\n\u001b[0;32m    234\u001b[0m     \u001b[38;5;66;03m# bpo-35017: shutdown() called during select(), exit immediately.\u001b[39;00m\n\u001b[0;32m    235\u001b[0m     \u001b[38;5;28;01mif\u001b[39;00m \u001b[38;5;28mself\u001b[39m\u001b[38;5;241m.\u001b[39m__shutdown_request:\n",
      "File \u001b[1;32mD:\\anaconda3\\Lib\\selectors.py:323\u001b[0m, in \u001b[0;36mSelectSelector.select\u001b[1;34m(self, timeout)\u001b[0m\n\u001b[0;32m    321\u001b[0m ready \u001b[38;5;241m=\u001b[39m []\n\u001b[0;32m    322\u001b[0m \u001b[38;5;28;01mtry\u001b[39;00m:\n\u001b[1;32m--> 323\u001b[0m     r, w, _ \u001b[38;5;241m=\u001b[39m \u001b[38;5;28mself\u001b[39m\u001b[38;5;241m.\u001b[39m_select(\u001b[38;5;28mself\u001b[39m\u001b[38;5;241m.\u001b[39m_readers, \u001b[38;5;28mself\u001b[39m\u001b[38;5;241m.\u001b[39m_writers, [], timeout)\n\u001b[0;32m    324\u001b[0m \u001b[38;5;28;01mexcept\u001b[39;00m \u001b[38;5;167;01mInterruptedError\u001b[39;00m:\n\u001b[0;32m    325\u001b[0m     \u001b[38;5;28;01mreturn\u001b[39;00m ready\n",
      "File \u001b[1;32mD:\\anaconda3\\Lib\\selectors.py:314\u001b[0m, in \u001b[0;36mSelectSelector._select\u001b[1;34m(self, r, w, _, timeout)\u001b[0m\n\u001b[0;32m    313\u001b[0m \u001b[38;5;28;01mdef\u001b[39;00m \u001b[38;5;21m_select\u001b[39m(\u001b[38;5;28mself\u001b[39m, r, w, _, timeout\u001b[38;5;241m=\u001b[39m\u001b[38;5;28;01mNone\u001b[39;00m):\n\u001b[1;32m--> 314\u001b[0m     r, w, x \u001b[38;5;241m=\u001b[39m select\u001b[38;5;241m.\u001b[39mselect(r, w, w, timeout)\n\u001b[0;32m    315\u001b[0m     \u001b[38;5;28;01mreturn\u001b[39;00m r, w \u001b[38;5;241m+\u001b[39m x, []\n",
      "\u001b[1;31mKeyboardInterrupt\u001b[0m: "
     ]
    }
   ],
   "source": [
    "import sqlite3\n",
    "from xmlrpc.server import SimpleXMLRPCServer\n",
    "\n",
    "# Создаем сервер статистики\n",
    "stats_server = SimpleXMLRPCServer(('localhost', 7000))\n",
    "\n",
    "# Подключаемся к базе данных SQLite\n",
    "conn = sqlite3.connect('log.db')\n",
    "c = conn.cursor()\n",
    "\n",
    "# Создаем таблицу, если она не существует\n",
    "c.execute('''CREATE TABLE IF NOT EXISTS events\n",
    "             (id INTEGER PRIMARY KEY AUTOINCREMENT,\n",
    "             types TEXT, event_name TEXT, event_data TEXT)''')\n",
    "\n",
    "# Определяем функцию для сохранения событий в базе данных\n",
    "def save_event(types, event_name, event_data):\n",
    "    # Вставляем данные события в таблицу\n",
    "    c.execute(\"INSERT INTO events (types, event_name, event_data) VALUES (?, ?, ?)\",\n",
    "              (types, event_name, event_data))\n",
    "    # Сохраняем изменения\n",
    "    conn.commit()\n",
    "    return \"Событие успешно сохранено\"\n",
    "# Регистрируем функцию сохранения события на сервере статистики\n",
    "stats_server.register_function(save_event)\n",
    "\n",
    "def select_event(types, end_time, start_time):\n",
    "    # выбираем данные из таблицы по промежутку\n",
    "    result = c.execute(\"SELECT * FROM events WHERE types == ? AND event_data>=? AND event_data<=?\",\n",
    "              (types, start_time, end_time))\n",
    "    # Сохраняем изменения\n",
    "    conn.commit()\n",
    "    return str(result)\n",
    "# Регистрируем функцию сохранения события на сервере статистики\n",
    "stats_server.register_function(select_event)\n",
    "\n",
    "\n",
    "\n",
    "\n",
    "print(\"Listening on port 7000...\")\n",
    "\n",
    "# Запускаем сервер статистики\n",
    "stats_server.serve_forever()\n",
    "\n",
    "\n"
   ]
  }
 ],
 "metadata": {
  "kernelspec": {
   "display_name": "Python 3 (ipykernel)",
   "language": "python",
   "name": "python3"
  },
  "language_info": {
   "codemirror_mode": {
    "name": "ipython",
    "version": 3
   },
   "file_extension": ".py",
   "mimetype": "text/x-python",
   "name": "python",
   "nbconvert_exporter": "python",
   "pygments_lexer": "ipython3",
   "version": "3.11.5"
  }
 },
 "nbformat": 4,
 "nbformat_minor": 5
}
