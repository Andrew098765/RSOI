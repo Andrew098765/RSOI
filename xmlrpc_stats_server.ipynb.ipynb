{
 "cells": [
  {
   "cell_type": "markdown",
   "metadata": {},
   "source": [
    "#### Файл сервера xmlrpc_stats_server_p3.ipynb на Python 3 "
   ]
  },
  {
   "cell_type": "code",
   "execution_count": null,
   "metadata": {},
   "outputs": [
    {
     "name": "stdout",
     "output_type": "stream",
     "text": [
      "Listening on port 8018...\n"
     ]
    }
   ],
   "source": [
    "\n",
    "from xmlrpc.server import SimpleXMLRPCServer\n",
    "from xmlrpc.server import SimpleXMLRPCRequestHandler\n",
    "\n",
    "# import OS module\n",
    "import os\n",
    "import re\n",
    "\n",
    "import datetime\n",
    "import pandas\n",
    "\n",
    "class RequestHandler(SimpleXMLRPCRequestHandler):\n",
    "    rpc_paths = ('/RPC2',)\n",
    "\n",
    "server = SimpleXMLRPCServer((\"localhost\", 8018), \n",
    "                            requestHandler=RequestHandler)\n",
    "\n",
    "        \n",
    "# Добавление строки в лог\n",
    "def add_log(sname):\n",
    "    max_logs = 1000\n",
    "    count_log = count_lines('log.csv')\n",
    "    if count_log>=max_logs:\n",
    "        f = open('log.csv','r')\n",
    "        archive_file = f\"log_{datetime.datetime.now().strftime('%Y%m%d_%H%M%S')}.csv\"\n",
    "        r = open('log.csv', 'r')\n",
    "        log_data = r.read()\n",
    "        r.close\n",
    "        d = open(archive_file, 'w')\n",
    "        d.write(log_data)\n",
    "        d.close\n",
    "        f.close()\n",
    "        f = open('log.csv','w')\n",
    "        f.close()\n",
    "    f = open('log.csv','a')\n",
    "    f.write(str(sname)+','+ datetime.datetime.now().strftime(\"%Y-%m-%d %H:%M:%S\") +'\\n')\n",
    "    f.close()\n",
    "    return True\n",
    "\n",
    "server.register_function(add_log, 'add_log')\n",
    "\n",
    "#считать кол-во строк\n",
    "def count_lines(filename, chunk_size=1<<13):\n",
    "    with open(filename) as file:\n",
    "        return sum(chunk.count('\\n')\n",
    "                   for chunk in iter(lambda: file.read(chunk_size), ''))\n",
    "    \n",
    "server.register_function(count_lines, 'count_lines')\n",
    "\n",
    "#получить логи в каком-то промежутке времени и типа\n",
    "def get_event_log(types, start_time, end_time):\n",
    "    path = r\"C:\\Users\\Андрей\\OneDrive\\Рабочий стол\\jupyter\"\n",
    "    dir_list = os.listdir(path)\n",
    "    result = \"\"\n",
    "    for x in os.listdir():\n",
    "        match = re.search(r\"log.*\\.csv\", x)\n",
    "        if match:\n",
    "            # Prints only text file present in My Folder\n",
    "            print(x)\n",
    "            f = open(str(x),'r')\n",
    "            # Чтение CSV-файла\n",
    "            date_column = 'date'\n",
    "            df = pandas.read_csv(f, delimiter=',', names=['type', date_column])\n",
    "\n",
    "            # Фильтрация\n",
    "            filtered_df = df[(df[date_column] >= start_time) & (df[date_column] <= end_time) & (df['type']  == types)]\n",
    "            result = result + str(filtered_df)\n",
    "            f.close()\n",
    "            # Возврат отфильтрованного DataFrame\n",
    "    return result\n",
    "\n",
    "server.register_function(get_event_log, 'get_event_log')\n",
    "\n",
    "#tet = get_event_log(\"type\", '2022-12-19 00:00:00', '2023-12-20 18:00:00')\n",
    "#print (tet)\n",
    "print (\"Listening on port 8018...\")\n",
    "server.serve_forever()\n"
   ]
  },
  {
   "cell_type": "code",
   "execution_count": null,
   "metadata": {},
   "outputs": [],
   "source": []
  }
 ],
 "metadata": {
  "kernelspec": {
   "display_name": "Python 3 (ipykernel)",
   "language": "python",
   "name": "python3"
  },
  "language_info": {
   "codemirror_mode": {
    "name": "ipython",
    "version": 3
   },
   "file_extension": ".py",
   "mimetype": "text/x-python",
   "name": "python",
   "nbconvert_exporter": "python",
   "pygments_lexer": "ipython3",
   "version": "3.11.5"
  }
 },
 "nbformat": 4,
 "nbformat_minor": 2
}
