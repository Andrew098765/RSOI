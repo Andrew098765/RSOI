{
 "cells": [
  {
   "cell_type": "code",
   "execution_count": 1,
   "metadata": {},
   "outputs": [
    {
     "name": "stdout",
     "output_type": "stream",
     "text": [
      "<sqlite3.Cursor object at 0x000002589A8350C0>\n"
     ]
    },
    {
     "ename": "Fault",
     "evalue": "<Fault 1: \"<class 'KeyboardInterrupt'>:\">",
     "output_type": "error",
     "traceback": [
      "\u001b[1;31m---------------------------------------------------------------------------\u001b[0m",
      "\u001b[1;31mFault\u001b[0m                                     Traceback (most recent call last)",
      "Cell \u001b[1;32mIn[1], line 16\u001b[0m\n\u001b[0;32m     13\u001b[0m res \u001b[38;5;241m=\u001b[39m stats_server\u001b[38;5;241m.\u001b[39mselect_event(\u001b[38;5;124m'\u001b[39m\u001b[38;5;124mtype\u001b[39m\u001b[38;5;124m'\u001b[39m, \u001b[38;5;124m'\u001b[39m\u001b[38;5;124m2023-12-19 00:00:00\u001b[39m\u001b[38;5;124m'\u001b[39m, \u001b[38;5;124m'\u001b[39m\u001b[38;5;124m2023-12-19 18:00:00\u001b[39m\u001b[38;5;124m'\u001b[39m)\n\u001b[0;32m     14\u001b[0m \u001b[38;5;28mprint\u001b[39m(res)\n\u001b[1;32m---> 16\u001b[0m \u001b[38;5;28mprint\u001b[39m(\u001b[38;5;124m'\u001b[39m\u001b[38;5;124mPing:\u001b[39m\u001b[38;5;124m'\u001b[39m, server\u001b[38;5;241m.\u001b[39mping())\n\u001b[0;32m     18\u001b[0m \u001b[38;5;28mprint\u001b[39m(\u001b[38;5;124m'\u001b[39m\u001b[38;5;124mServer datetime:\u001b[39m\u001b[38;5;124m'\u001b[39m, server\u001b[38;5;241m.\u001b[39mnow())\n\u001b[0;32m     20\u001b[0m \u001b[38;5;66;03m#print('View, type, value:', server.proxy_handler(server.type(2)))\u001b[39;00m\n",
      "File \u001b[1;32mD:\\anaconda3\\Lib\\xmlrpc\\client.py:1122\u001b[0m, in \u001b[0;36m_Method.__call__\u001b[1;34m(self, *args)\u001b[0m\n\u001b[0;32m   1121\u001b[0m \u001b[38;5;28;01mdef\u001b[39;00m \u001b[38;5;21m__call__\u001b[39m(\u001b[38;5;28mself\u001b[39m, \u001b[38;5;241m*\u001b[39margs):\n\u001b[1;32m-> 1122\u001b[0m     \u001b[38;5;28;01mreturn\u001b[39;00m \u001b[38;5;28mself\u001b[39m\u001b[38;5;241m.\u001b[39m__send(\u001b[38;5;28mself\u001b[39m\u001b[38;5;241m.\u001b[39m__name, args)\n",
      "File \u001b[1;32mD:\\anaconda3\\Lib\\xmlrpc\\client.py:1464\u001b[0m, in \u001b[0;36mServerProxy.__request\u001b[1;34m(self, methodname, params)\u001b[0m\n\u001b[0;32m   1458\u001b[0m \u001b[38;5;28;01mdef\u001b[39;00m \u001b[38;5;21m__request\u001b[39m(\u001b[38;5;28mself\u001b[39m, methodname, params):\n\u001b[0;32m   1459\u001b[0m     \u001b[38;5;66;03m# call a method on the remote server\u001b[39;00m\n\u001b[0;32m   1461\u001b[0m     request \u001b[38;5;241m=\u001b[39m dumps(params, methodname, encoding\u001b[38;5;241m=\u001b[39m\u001b[38;5;28mself\u001b[39m\u001b[38;5;241m.\u001b[39m__encoding,\n\u001b[0;32m   1462\u001b[0m                     allow_none\u001b[38;5;241m=\u001b[39m\u001b[38;5;28mself\u001b[39m\u001b[38;5;241m.\u001b[39m__allow_none)\u001b[38;5;241m.\u001b[39mencode(\u001b[38;5;28mself\u001b[39m\u001b[38;5;241m.\u001b[39m__encoding, \u001b[38;5;124m'\u001b[39m\u001b[38;5;124mxmlcharrefreplace\u001b[39m\u001b[38;5;124m'\u001b[39m)\n\u001b[1;32m-> 1464\u001b[0m     response \u001b[38;5;241m=\u001b[39m \u001b[38;5;28mself\u001b[39m\u001b[38;5;241m.\u001b[39m__transport\u001b[38;5;241m.\u001b[39mrequest(\n\u001b[0;32m   1465\u001b[0m         \u001b[38;5;28mself\u001b[39m\u001b[38;5;241m.\u001b[39m__host,\n\u001b[0;32m   1466\u001b[0m         \u001b[38;5;28mself\u001b[39m\u001b[38;5;241m.\u001b[39m__handler,\n\u001b[0;32m   1467\u001b[0m         request,\n\u001b[0;32m   1468\u001b[0m         verbose\u001b[38;5;241m=\u001b[39m\u001b[38;5;28mself\u001b[39m\u001b[38;5;241m.\u001b[39m__verbose\n\u001b[0;32m   1469\u001b[0m         )\n\u001b[0;32m   1471\u001b[0m     \u001b[38;5;28;01mif\u001b[39;00m \u001b[38;5;28mlen\u001b[39m(response) \u001b[38;5;241m==\u001b[39m \u001b[38;5;241m1\u001b[39m:\n\u001b[0;32m   1472\u001b[0m         response \u001b[38;5;241m=\u001b[39m response[\u001b[38;5;241m0\u001b[39m]\n",
      "File \u001b[1;32mD:\\anaconda3\\Lib\\xmlrpc\\client.py:1166\u001b[0m, in \u001b[0;36mTransport.request\u001b[1;34m(self, host, handler, request_body, verbose)\u001b[0m\n\u001b[0;32m   1164\u001b[0m \u001b[38;5;28;01mfor\u001b[39;00m i \u001b[38;5;129;01min\u001b[39;00m (\u001b[38;5;241m0\u001b[39m, \u001b[38;5;241m1\u001b[39m):\n\u001b[0;32m   1165\u001b[0m     \u001b[38;5;28;01mtry\u001b[39;00m:\n\u001b[1;32m-> 1166\u001b[0m         \u001b[38;5;28;01mreturn\u001b[39;00m \u001b[38;5;28mself\u001b[39m\u001b[38;5;241m.\u001b[39msingle_request(host, handler, request_body, verbose)\n\u001b[0;32m   1167\u001b[0m     \u001b[38;5;28;01mexcept\u001b[39;00m http\u001b[38;5;241m.\u001b[39mclient\u001b[38;5;241m.\u001b[39mRemoteDisconnected:\n\u001b[0;32m   1168\u001b[0m         \u001b[38;5;28;01mif\u001b[39;00m i:\n",
      "File \u001b[1;32mD:\\anaconda3\\Lib\\xmlrpc\\client.py:1182\u001b[0m, in \u001b[0;36mTransport.single_request\u001b[1;34m(self, host, handler, request_body, verbose)\u001b[0m\n\u001b[0;32m   1180\u001b[0m     \u001b[38;5;28;01mif\u001b[39;00m resp\u001b[38;5;241m.\u001b[39mstatus \u001b[38;5;241m==\u001b[39m \u001b[38;5;241m200\u001b[39m:\n\u001b[0;32m   1181\u001b[0m         \u001b[38;5;28mself\u001b[39m\u001b[38;5;241m.\u001b[39mverbose \u001b[38;5;241m=\u001b[39m verbose\n\u001b[1;32m-> 1182\u001b[0m         \u001b[38;5;28;01mreturn\u001b[39;00m \u001b[38;5;28mself\u001b[39m\u001b[38;5;241m.\u001b[39mparse_response(resp)\n\u001b[0;32m   1184\u001b[0m \u001b[38;5;28;01mexcept\u001b[39;00m Fault:\n\u001b[0;32m   1185\u001b[0m     \u001b[38;5;28;01mraise\u001b[39;00m\n",
      "File \u001b[1;32mD:\\anaconda3\\Lib\\xmlrpc\\client.py:1354\u001b[0m, in \u001b[0;36mTransport.parse_response\u001b[1;34m(self, response)\u001b[0m\n\u001b[0;32m   1351\u001b[0m     stream\u001b[38;5;241m.\u001b[39mclose()\n\u001b[0;32m   1352\u001b[0m p\u001b[38;5;241m.\u001b[39mclose()\n\u001b[1;32m-> 1354\u001b[0m \u001b[38;5;28;01mreturn\u001b[39;00m u\u001b[38;5;241m.\u001b[39mclose()\n",
      "File \u001b[1;32mD:\\anaconda3\\Lib\\xmlrpc\\client.py:668\u001b[0m, in \u001b[0;36mUnmarshaller.close\u001b[1;34m(self)\u001b[0m\n\u001b[0;32m    666\u001b[0m     \u001b[38;5;28;01mraise\u001b[39;00m ResponseError()\n\u001b[0;32m    667\u001b[0m \u001b[38;5;28;01mif\u001b[39;00m \u001b[38;5;28mself\u001b[39m\u001b[38;5;241m.\u001b[39m_type \u001b[38;5;241m==\u001b[39m \u001b[38;5;124m\"\u001b[39m\u001b[38;5;124mfault\u001b[39m\u001b[38;5;124m\"\u001b[39m:\n\u001b[1;32m--> 668\u001b[0m     \u001b[38;5;28;01mraise\u001b[39;00m Fault(\u001b[38;5;241m*\u001b[39m\u001b[38;5;241m*\u001b[39m\u001b[38;5;28mself\u001b[39m\u001b[38;5;241m.\u001b[39m_stack[\u001b[38;5;241m0\u001b[39m])\n\u001b[0;32m    669\u001b[0m \u001b[38;5;28;01mreturn\u001b[39;00m \u001b[38;5;28mtuple\u001b[39m(\u001b[38;5;28mself\u001b[39m\u001b[38;5;241m.\u001b[39m_stack)\n",
      "\u001b[1;31mFault\u001b[0m: <Fault 1: \"<class 'KeyboardInterrupt'>:\">"
     ]
    }
   ],
   "source": [
    "# xmlrpc_client.ipynb\n",
    "\n",
    "import xmlrpc.client\n",
    "import pickle\n",
    "import pandas as pd\n",
    "\n",
    "#server = xmlrpc.client.ServerProxy(\"http://localhost:8008\")\n",
    "server = xmlrpc.client.ServerProxy(\"http://localhost:8009\")\n",
    "#stats_server = xmlrpc.client.ServerProxy(\"http://localhost:8018\")\n",
    "stats_server = xmlrpc.client.ServerProxy(\"http://localhost:7000\")\n",
    "\n",
    "\n",
    "res = stats_server.select_event('type', '2023-12-19 00:00:00', '2023-12-19 18:00:00')\n",
    "print(res)\n",
    "\n",
    "print('Ping:', server.ping())\n",
    "\n",
    "print('Server datetime:', server.now())\n",
    "\n",
    "#print('View, type, value:', server.proxy_handler(server.type(2)))\n",
    "print('View, type, value:', server.type(2))\n",
    "print('View, type, value:', server.type(2.))\n",
    "print('View, type, value:', server.type('My string'))\n",
    "print('View, type, value:', server.type(\"My string\"))\n",
    "print('View, type, value:', server.type([1,2,3]))\n",
    "print('View, type, value:', server.type([\"one\", \"two\", \"three\"]))\n",
    "print('View, type, value:', server.type((1,2,\"3\")))\n",
    "\n",
    "print('Sum 2 + 3 :', server.sum(2, 3))\n",
    "print('Pow 2^3: ', server.pow(2, 3))\n",
    "res = stats_server.select_event('type', '2023-12-19 00:00:00', '2023-12-19 18:00:00')\n",
    "print(res)\n",
    "#logs = stats_server.get_event_log('type', '2023-12-19 00:00:00', '2023-12-19 18:00:00')\n",
    "#print(logs)\n",
    "#logs = server.get_event_logs('type', '2023-12-19 00:00:00', '2023-12-19 18:00:00')\n",
    "#print(logs)\n"
   ]
  },
  {
   "cell_type": "code",
   "execution_count": null,
   "metadata": {
    "scrolled": true
   },
   "outputs": [],
   "source": [
    "import array\n",
    "from PIL import Image # Работа с изображением\n",
    "from pylab import * # Отображение\n",
    "\n",
    "import xmlrpc\n",
    "\n",
    "# Режим отображения внутри ноутбука\n",
    "%matplotlib inline\n",
    "\n",
    "img = Image.open('Jellyfish.jpg')\n",
    "\n",
    "img_arr = array(img)\n",
    "\n",
    "# Исходное изображение\n",
    "imshow(img_arr)"
   ]
  },
  {
   "cell_type": "code",
   "execution_count": null,
   "metadata": {},
   "outputs": [],
   "source": [
    "import pickle\n",
    "# Тест бинарной передачи данных\n",
    "#pimg = img_arr.dumps()\n",
    "pimg = pickle.dumps(img_arr) # универсально\n",
    "\n",
    "img_bin = xmlrpc.client.Binary(pimg)\n",
    "\n",
    "img_bin2 = server.send_back_binary(img_bin)\n",
    "\n",
    "#img_arr2 = np.loads(img_bin2.data)\n",
    "img_arr2 = pickle.loads(img_bin2.data) # универсально\n",
    "\n",
    "# Изображение после возрата с сервера\n",
    "imshow(img_arr2)"
   ]
  },
  {
   "cell_type": "code",
   "execution_count": null,
   "metadata": {
    "scrolled": true
   },
   "outputs": [],
   "source": [
    "import pickle\n",
    "# Инверсия цвета изображения через сервер\n",
    "def inv_color(img_arr_in):\n",
    "    pimg = pickle.dumps(img_arr_in)\n",
    "    img_bin = xmlrpc.client.Binary(pimg)\n",
    "    \n",
    "    img_bin2 = server.color_inversion(img_bin)\n",
    "    \n",
    "    img_arr_out = pickle.loads(img_bin2.data)\n",
    "    return img_arr_out\n",
    "\n",
    "img_arr_inv = inv_color(img_arr)\n",
    "\n",
    "# Изображение с инверсией цвета\n",
    "imshow(img_arr_inv)"
   ]
  },
  {
   "cell_type": "code",
   "execution_count": null,
   "metadata": {},
   "outputs": [],
   "source": [
    "print(server.black_list_check('Петров'))\n",
    "print(server.black_list_check('Примеров'))\n",
    "print(server.black_list_check_par('Петров', 'Петр', 'Петрович', '07.08.1985'))\n",
    "print(server.black_list_check_par('Примеров', 'Петр', 'Петрович', '07.08.1985'))"
   ]
  },
  {
   "cell_type": "code",
   "execution_count": null,
   "metadata": {
    "scrolled": true
   },
   "outputs": [],
   "source": [
    "import pickle\n",
    "# вращение изображения\n",
    "def fleep(img_arr_in):\n",
    "    pimg = pickle.dumps(img_arr_in)\n",
    "    img_bin = xmlrpc.client.Binary(pimg)\n",
    "    \n",
    "    img_bin2 = server.send_back_flipped(img_bin)\n",
    "    \n",
    "    img_arr_out = pickle.loads(img_bin2.data)\n",
    "    return img_arr_out\n",
    "\n",
    "img_arr_inv = fleep(img_arr)\n",
    "\n",
    "# вращение изображения\n",
    "imshow(img_arr_inv)"
   ]
  },
  {
   "cell_type": "code",
   "execution_count": null,
   "metadata": {},
   "outputs": [],
   "source": [
    "import pickle\n",
    "# бинаризация по параметру\n",
    "def fleep(img_arr_in):\n",
    "    pimg = pickle.dumps(img_arr_in)\n",
    "    img_bin = xmlrpc.client.Binary(pimg)\n",
    "    #\n",
    "    img_bin2 = server.send_back_binary_par(img_bin, [100, 100, 100])\n",
    "    #img_bin2 = server.send_back_binary_par(img_bin, 100)\n",
    "    \n",
    "    img_arr_out = pickle.loads(img_bin2.data)\n",
    "    return img_arr_out\n",
    "\n",
    "img_arr_inv = fleep(img_arr)\n",
    "\n",
    "# возврат\n",
    "imshow(img_arr_inv)"
   ]
  }
 ],
 "metadata": {
  "kernelspec": {
   "display_name": "Python 3 (ipykernel)",
   "language": "python",
   "name": "python3"
  },
  "language_info": {
   "codemirror_mode": {
    "name": "ipython",
    "version": 3
   },
   "file_extension": ".py",
   "mimetype": "text/x-python",
   "name": "python",
   "nbconvert_exporter": "python",
   "pygments_lexer": "ipython3",
   "version": "3.11.5"
  },
  "vscode": {
   "interpreter": {
    "hash": "ba40b285d43faf37d685cec03420249876785311e23abb9ce5de6bedc0c4d476"
   }
  }
 },
 "nbformat": 4,
 "nbformat_minor": 2
}
