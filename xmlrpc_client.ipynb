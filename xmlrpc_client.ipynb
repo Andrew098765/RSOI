{
 "cells": [
  {
   "cell_type": "code",
   "execution_count": null,
   "metadata": {},
   "outputs": [],
   "source": [
    "# xmlrpc_client.ipynb\n",
    "\n",
    "import xmlrpc.client\n",
    "import pickle\n",
    "import pandas as pd\n",
    "\n",
    "server = xmlrpc.client.ServerProxy(\"http://localhost:8008\")\n",
    "stats_server = xmlrpc.client.ServerProxy(\"http://localhost:8018\")\n",
    "print('Ping:', server.ping())\n",
    "\n",
    "print('Server datetime:', server.now())\n",
    "\n",
    "print('View, type, value:', server.type(2))\n",
    "print('View, type, value:', server.type(2.))\n",
    "print('View, type, value:', server.type('My string'))\n",
    "print('View, type, value:', server.type(\"My string\"))\n",
    "print('View, type, value:', server.type([1,2,3]))\n",
    "print('View, type, value:', server.type([\"one\", \"two\", \"three\"]))\n",
    "print('View, type, value:', server.type((1,2,\"3\")))\n",
    "\n",
    "print('Sum 2 + 3 :', server.sum(2, 3))\n",
    "print('Pow 2^3: ', server.pow(2, 3))\n",
    "#logs = stats_server.get_event_log('type', '2023-12-19 00:00:00', '2023-12-19 18:00:00')\n",
    "#print(logs)\n",
    "#logs = server.get_event_logs('type', '2023-12-19 00:00:00', '2023-12-19 18:00:00')\n",
    "#print(logs)\n"
   ]
  },
  {
   "cell_type": "code",
   "execution_count": null,
   "metadata": {
    "scrolled": true
   },
   "outputs": [],
   "source": [
    "import array\n",
    "from PIL import Image # Работа с изображением\n",
    "from pylab import * # Отображение\n",
    "\n",
    "import xmlrpc\n",
    "\n",
    "# Режим отображения внутри ноутбука\n",
    "%matplotlib inline\n",
    "\n",
    "img = Image.open('Jellyfish.jpg')\n",
    "\n",
    "img_arr = array(img)\n",
    "\n",
    "# Исходное изображение\n",
    "imshow(img_arr)"
   ]
  },
  {
   "cell_type": "code",
   "execution_count": null,
   "metadata": {},
   "outputs": [],
   "source": [
    "import pickle\n",
    "# Тест бинарной передачи данных\n",
    "#pimg = img_arr.dumps()\n",
    "pimg = pickle.dumps(img_arr) # универсально\n",
    "\n",
    "img_bin = xmlrpc.client.Binary(pimg)\n",
    "\n",
    "img_bin2 = server.send_back_binary(img_bin)\n",
    "\n",
    "#img_arr2 = np.loads(img_bin2.data)\n",
    "img_arr2 = pickle.loads(img_bin2.data) # универсально\n",
    "\n",
    "# Изображение после возрата с сервера\n",
    "imshow(img_arr2)"
   ]
  },
  {
   "cell_type": "code",
   "execution_count": null,
   "metadata": {
    "scrolled": true
   },
   "outputs": [],
   "source": [
    "import pickle\n",
    "# Инверсия цвета изображения через сервер\n",
    "def inv_color(img_arr_in):\n",
    "    pimg = pickle.dumps(img_arr_in)\n",
    "    img_bin = xmlrpc.client.Binary(pimg)\n",
    "    \n",
    "    img_bin2 = server.color_inversion(img_bin)\n",
    "    \n",
    "    img_arr_out = pickle.loads(img_bin2.data)\n",
    "    return img_arr_out\n",
    "\n",
    "img_arr_inv = inv_color(img_arr)\n",
    "\n",
    "# Изображение с инверсией цвета\n",
    "imshow(img_arr_inv)"
   ]
  },
  {
   "cell_type": "code",
   "execution_count": null,
   "metadata": {},
   "outputs": [],
   "source": [
    "print(server.black_list_check('Петров'))\n",
    "print(server.black_list_check('Примеров'))\n",
    "print(server.black_list_check_par('Петров', 'Петр', 'Петрович', '07.08.1985'))\n",
    "print(server.black_list_check_par('Примеров', 'Петр', 'Петрович', '07.08.1985'))"
   ]
  },
  {
   "cell_type": "code",
   "execution_count": null,
   "metadata": {
    "scrolled": true
   },
   "outputs": [],
   "source": [
    "import pickle\n",
    "# вращение изображения\n",
    "def fleep(img_arr_in):\n",
    "    pimg = pickle.dumps(img_arr_in)\n",
    "    img_bin = xmlrpc.client.Binary(pimg)\n",
    "    \n",
    "    img_bin2 = server.send_back_flipped(img_bin)\n",
    "    \n",
    "    img_arr_out = pickle.loads(img_bin2.data)\n",
    "    return img_arr_out\n",
    "\n",
    "img_arr_inv = fleep(img_arr)\n",
    "\n",
    "# вращение изображения\n",
    "imshow(img_arr_inv)"
   ]
  },
  {
   "cell_type": "code",
   "execution_count": null,
   "metadata": {},
   "outputs": [],
   "source": [
    "import pickle\n",
    "# бинаризация по параметру\n",
    "def fleep(img_arr_in):\n",
    "    pimg = pickle.dumps(img_arr_in)\n",
    "    img_bin = xmlrpc.client.Binary(pimg)\n",
    "    #\n",
    "    img_bin2 = server.send_back_binary_par(img_bin, [100, 100, 100])\n",
    "    #img_bin2 = server.send_back_binary_par(img_bin, 100)\n",
    "    \n",
    "    img_arr_out = pickle.loads(img_bin2.data)\n",
    "    return img_arr_out\n",
    "\n",
    "img_arr_inv = fleep(img_arr)\n",
    "\n",
    "# возврат\n",
    "imshow(img_arr_inv)"
   ]
  }
 ],
 "metadata": {
  "kernelspec": {
   "display_name": "Python 3 (ipykernel)",
   "language": "python",
   "name": "python3"
  },
  "language_info": {
   "codemirror_mode": {
    "name": "ipython",
    "version": 3
   },
   "file_extension": ".py",
   "mimetype": "text/x-python",
   "name": "python",
   "nbconvert_exporter": "python",
   "pygments_lexer": "ipython3",
   "version": "3.11.5"
  },
  "vscode": {
   "interpreter": {
    "hash": "ba40b285d43faf37d685cec03420249876785311e23abb9ce5de6bedc0c4d476"
   }
  }
 },
 "nbformat": 4,
 "nbformat_minor": 2
}
